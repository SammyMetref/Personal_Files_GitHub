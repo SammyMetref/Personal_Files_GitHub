{
 "cells": [
  {
   "cell_type": "markdown",
   "metadata": {},
   "source": [
    "# Boost-SWOT meeting plan\n",
    "------------------------------------------------"
   ]
  },
  {
   "cell_type": "markdown",
   "metadata": {},
   "source": [
    "##  Date: *to be determined*\n",
    "## Participants: Julien, Emmanuel, Sammy \n",
    "\n",
    "---------------------------------------- "
   ]
  },
  {
   "cell_type": "markdown",
   "metadata": {},
   "source": [
    "### Objectives\n",
    "\n",
    "Designing the first major blocks of the Boost-SWOT's data assimilation (DA)/model framework and lawnching Sammy's contribution to this task.  "
   ]
  },
  {
   "cell_type": "markdown",
   "metadata": {},
   "source": [
    "### Topics to cover\n",
    "\n",
    "- Summarizing the existing DA libraries comparison and their structures \n",
    "    \n",
    "- Organizing the goal and the desired structure of the Boost-SWOT framework\n",
    "    \n",
    "- Defining the elementary tools necessary for the DA implementation (propagator, observations, DA methods, observation operator, error statistics ...) \n",
    "    \n",
    "- Identifying the existing and re-usable tools and the tools to create\n",
    "\n",
    "- Formulating a rough agenda "
   ]
  },
  {
   "cell_type": "markdown",
   "metadata": {},
   "source": [
    "### Additional useful information \n",
    "\n",
    "[Personal notes (raw version) on existing DA libraries](https://github.com/SammyMetref/Personal_Files_GitHub/blob/master/Personal_Files/2018/TextFiles/DA_library_comparison/2018-03-07-sm-document-comparison-da-libraries.ipynb)"
   ]
  },
  {
   "cell_type": "code",
   "execution_count": null,
   "metadata": {},
   "outputs": [],
   "source": []
  }
 ],
 "metadata": {
  "kernelspec": {
   "display_name": "Python 3",
   "language": "python",
   "name": "python3"
  },
  "language_info": {
   "codemirror_mode": {
    "name": "ipython",
    "version": 3
   },
   "file_extension": ".py",
   "mimetype": "text/x-python",
   "name": "python",
   "nbconvert_exporter": "python",
   "pygments_lexer": "ipython3",
   "version": "3.6.4"
  }
 },
 "nbformat": 4,
 "nbformat_minor": 2
}
