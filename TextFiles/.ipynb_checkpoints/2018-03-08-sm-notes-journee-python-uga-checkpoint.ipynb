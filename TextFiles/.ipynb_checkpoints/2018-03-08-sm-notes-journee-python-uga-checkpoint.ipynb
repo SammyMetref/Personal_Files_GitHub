{
 "cells": [
  {
   "cell_type": "markdown",
   "metadata": {},
   "source": [
    "# Notes"
   ]
  },
  {
   "cell_type": "markdown",
   "metadata": {},
   "source": [
    "##  Journée Python Science et Données @ Grenoble"
   ]
  },
  {
   "cell_type": "markdown",
   "metadata": {},
   "source": [
    "* ### How to build a solid scientific package (e.g. scikit-learn model)\n",
    "\n",
    "    - Keep a consistant and simple pattern\n",
    "    \n",
    "    ex: *instance* --> model = Model(param) <-- *Class(parameters)*\n",
    "        and the functions model.fit\n",
    "                          model.partial_fit\n",
    "                          model.predict\n",
    "                          model.transform\n",
    "                          \n",
    "    - Standard coding (check Developer's Guide in scikitlearn.org)\n",
    "        e.g. *function* in lower case and *Class* with upper case first letter\n",
    "             \n",
    "    - Use ** repo collab** to make available comments and remarks made during programming period\n",
    "    \n",
    "    - Maximum automatisation, continue integration tests at every *pull* and at every *commit* \n",
    "        using *TravisCI*, *App Veyor*, *Anaconda*, *CirleCI* \n",
    "        \n",
    "    - Make 3 level documentation \n",
    "        + Narrative documentation (explain the goal of the function for everyone)\n",
    "        + Expliacative documentation (how the code works)\n",
    "        + Examples gallery (can be semi-automatic generated from commentaries e.g. using Sphinx-Gallery) \n",
    "        \n",
    "    *Check scikit project-template (ci_script, doc, examples, template ...)* "
   ]
  },
  {
   "cell_type": "markdown",
   "metadata": {},
   "source": [
    "* ### Cours Python\n",
    "\n",
    "    *http//iihm.imag.fr/blanch/howtos/Python.html*"
   ]
  },
  {
   "cell_type": "markdown",
   "metadata": {},
   "source": [
    "* ### Software for pdf presentation on Mac OS X \n",
    "    Presentation.app "
   ]
  },
  {
   "cell_type": "markdown",
   "metadata": {},
   "source": [
    "* ### *Cython* du C dans Python \n",
    "    with possible parallel code (prange) "
   ]
  },
  {
   "cell_type": "markdown",
   "metadata": {},
   "source": [
    "* ### Check Raphaël Bacher's *binder* \n",
    "    *tinyurl.com/demo0803* "
   ]
  },
  {
   "cell_type": "markdown",
   "metadata": {},
   "source": [
    "* ### ipwidgets\n",
    "    - Widgets allowing graphical interactions\n",
    "    - 2D, 3D plotting librairies built on these\n",
    "    - http://jupyter.org/widgets"
   ]
  },
  {
   "cell_type": "markdown",
   "metadata": {},
   "source": [
    "* ### *Jupyterlab*\n",
    "\n",
    "    - Same notebook format/server but greatly improved client interface\n",
    "    - A web IDE (not quite there yet)\n",
    "    - A View/Model mechanism for all documents\n",
    "      - allow e.g. to write a document in md/latex and see live preview\n",
    "    - Highly customizable by extensions (all curent parts are extensions) :\n",
    "      - git/github\n",
    "      - draw.io\n",
    "      - geojson \n",
    "      - ...\n",
    "  \n",
    " #### Demo : change /tree to /lab\n",
    " or install : *conda install -c conda-forge jupyterlab*"
   ]
  },
  {
   "cell_type": "markdown",
   "metadata": {},
   "source": [
    "* ### BinderHub \n",
    "    Easier to communicate codes and data \n",
    "    \n",
    "    Combine the proxy to docker instance of Jupyterhub with a project for \"repo to docker image\"\n",
    "\n",
    "    - Put your code (demo/tuto, course...) on a github repo online\n",
    "    - Generate a link on https://mybinder.org/ from your repo link\n",
    "    - When going to this new url, any webuser get a sandbox containing your code and with all wanted packages already installed."
   ]
  },
  {
   "cell_type": "code",
   "execution_count": null,
   "metadata": {},
   "outputs": [],
   "source": []
  }
 ],
 "metadata": {
  "kernelspec": {
   "display_name": "Python 3",
   "language": "python",
   "name": "python3"
  },
  "language_info": {
   "codemirror_mode": {
    "name": "ipython",
    "version": 3
   },
   "file_extension": ".py",
   "mimetype": "text/x-python",
   "name": "python",
   "nbconvert_exporter": "python",
   "pygments_lexer": "ipython3",
   "version": "3.6.4"
  }
 },
 "nbformat": 4,
 "nbformat_minor": 2
}
