{
 "cells": [
  {
   "cell_type": "markdown",
   "metadata": {},
   "source": [
    "# 2018-03-14, première réunion (Julien, Manu et Sammy)\n",
    "\n",
    "## Points abordés\n",
    "\n",
    "1. Description du problème d'assimilation\n",
    "2. Outils baseline\n",
    "3. Briques dans le système logiciel\n",
    "4. Le problème de l'initialisation\n",
    "5. Le choix du noyau d'analyse\n",
    "6. Prise en compte de l'erreur modèle \n",
    "\n",
    "## 1. Description du problème d'assimilation\n",
    "\n",
    "### 1.1.  \n",
    "\n",
    "\n",
    "## 2. Outils baseline\n",
    "\n",
    "### 2.1.  \n",
    "\n",
    "## 3. Briques dans le système logiciel\n",
    " \n",
    "\n",
    "## 4. Le problème de l'initialisation\n",
    "\n",
    "\n",
    "### 4.1.   \n",
    "\n",
    "## 5. Le choix du noyau d'analyse\n",
    "\n",
    "## 6. Prise en compte de l'erreur modèle\n",
    "\n",
    "## Récapitulatif \"todo\" \n",
    "\n",
    "\n",
    "- check distribution QG Clement avec Redouane\n",
    "- commencer à ranger outil d’évaluation des 30 cartes successives.\n",
    "- creation de la base de donnée SSH sur 1 an 3x3 (ou résolution NATL60?)\n",
    "- creation de la base de donnée SWOT like sur 1 an from hourly ssh.\n",
    "- créer une trajectoire (courte ?) du QG de Clement\n",
    "- tester la creation des pseudo observation (interpolation)\n",
    "- coder un nudging avec brique élémentaires\n",
    "- en parallèle : proposer un plan d’exp pour caractériser erreur modèle.\n",
    "- notebook pour chaque étape, avec texte en markdown."
   ]
  },
  {
   "cell_type": "code",
   "execution_count": null,
   "metadata": {},
   "outputs": [],
   "source": []
  }
 ],
 "metadata": {
  "kernelspec": {
   "display_name": "Python 3",
   "language": "python",
   "name": "python3"
  },
  "language_info": {
   "codemirror_mode": {
    "name": "ipython",
    "version": 3
   },
   "file_extension": ".py",
   "mimetype": "text/x-python",
   "name": "python",
   "nbconvert_exporter": "python",
   "pygments_lexer": "ipython3",
   "version": "3.6.4"
  }
 },
 "nbformat": 4,
 "nbformat_minor": 2
}
