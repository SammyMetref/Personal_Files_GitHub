{
 "cells": [
  {
   "cell_type": "markdown",
   "metadata": {},
   "source": [
    "Data assimilation library comparaison \n",
    "----------------------------------\n",
    "------------------------------------- \n"
   ]
  },
  {
   "cell_type": "markdown",
   "metadata": {},
   "source": [
    "I. Existing data assimilation libraries \n",
    "-------------------------------------\n",
    " \n",
    " \n",
    "| **Library**  | **Institution**      | **Language**                  | **_Additional remarks_**                 |\n",
    "|:-------------|:---------------------|:------------------------------|-----------------------------------------:|\n",
    "| **DART**     | NCAR                 | Fortran 90                    | *limited number of DA methods*           |\n",
    "| **OpenDA**   | Univ. Delft          | Java and XML                  | *good diversity of DA methods*           | \n",
    "| **PDAF**     | Alfred Wegener Inst. | Fortran 90                    | *only intrinsically parallel DA methods* |\n",
    "| **PALM**     | Cerfacs              | ??                            | *good for (variational) method developement*| \n",
    "| **Verdandi** | INRIA, V. Mallet     | C++ with Python interface     |  None                                    |\n",
    "| **JEDI**     | USA collab.          | *flexible*                    |  None                                    |\n",
    "| **OOPS**     | ECMWF, Y. Tremolet   | Fortran 90 with interface C++ |  None                                    |\n",
    " "
   ]
  },
  {
   "cell_type": "markdown",
   "metadata": {},
   "source": [
    "II. Framework setups and classes\n",
    "------------------------------------"
   ]
  },
  {
   "cell_type": "markdown",
   "metadata": {},
   "source": [
    "### 1. OpenDA \n",
    "\n",
    "<center> **Observations $$ \\Downarrow \\Uparrow $$ DA Method $$ \\Downarrow \\Uparrow $$ Black box (containing model specifics) $$ \\Downarrow \\Uparrow $$ Model** \n",
    "\n",
    "The black box contains: \n",
    "\n",
    "- **Wrapper layer:** contains the specification of location of (template) input files, the names of executables needed to perform a model run and the input and output files that have to be processed using the wrapper code.\n",
    "\n",
    "- **Model layer:** contains a list of the variables from the required input and output files. In this layer, it is possible to rename the ID’s of the variables in order to ensure uniqueness.\n",
    "\n",
    "- **StochModel layer:** The model as presented to the data assimilation method is constructed. The state vector is composed by listing the associated variables and arrays, noise models on model forcings can be specified and information is provided about matching model predictions to observations.\n"
   ]
  },
  {
   "cell_type": "markdown",
   "metadata": {},
   "source": [
    "### 2. PDAF\n",
    "\n",
    "![PDAF DA structure](../Image/da_structure.png) \n",
    "\n",
    "![PDAF DA extension](../Image/da_extension2x.png) "
   ]
  },
  {
   "cell_type": "markdown",
   "metadata": {},
   "source": [
    "### 2. OpenPALM\n",
    "\n",
    "#### Seperate development of units:  \n",
    "\n",
    "- **Model** \n",
    "\n",
    "- $ \\textbf{P}^{-1}$ \n",
    "\n",
    "- $ \\textbf{H} $\n",
    "\n",
    "- $ \\textbf{H}^T $\n",
    "\n",
    "- $ \\textbf{R}^{-1}$ \n",
    "\n",
    "*(Variational orientation)*\n",
    "    \n",
    "    \n",
    "\n",
    "#### Unique units managment: \n",
    "\n",
    "PALM handles the algorithm and the linear algebra.\n",
    "For this purpose it has to perform the following tasks\n",
    "\n",
    "    0. definition of the parallel strategy for the algorithm and the linear algebra\n",
    "    1. process management: spawning and monitoring\n",
    "    2. process synchronisation: on an \"on event\" basis\n",
    "    3. communication management: addressing and monitoring\n",
    "    4. memory buffer management\n",
    "    5. distributed linear algebra: strategy and computations\n",
    "    6. interaction with the operational system's supervisor\n",
    "    7. statistics"
   ]
  },
  {
   "cell_type": "markdown",
   "metadata": {},
   "source": [
    "### 3. Verdandi\n",
    "\n",
    "* Class Model: \n",
    "\n",
    "    - Forward *(time integration over one time step)*\n",
    "    - GetState* (get an array)*\n",
    "    - GetDate* (get an integer)*\n",
    "    - GetStateErrorVariance* (get an object)*\n",
    "    - GetModelErrorVariance* (get an object)*\n",
    "    - *model input data and parameter*\n",
    "    - Linear* (the TLM)*\n",
    "    - Backward* (the adjoint)*\n",
    "\n",
    "* Class Data Assimilation: \n",
    "\n",
    "    - *DA method*\n",
    "    - *...*\n",
    "\n",
    "* Class ObservationManager \n",
    "\n",
    "    - ReadObservations *(at a specified date Model::GetDate)*\n",
    "    - HasObservations *(check if obs are available between previous and present date)*\n",
    "    - GetData\n",
    "    - GetErrorVariance *(model related)*\n",
    "    - *a method to perturb the obs* \n",
    "    - ObservationOperator *(may be in a seperate class)* \n",
    "\n",
    "* Class ModelErrorVariance\n",
    "\n",
    "* Class StateErrorVariance"
   ]
  },
  {
   "cell_type": "markdown",
   "metadata": {},
   "source": [
    "### 4. JEDI\n",
    " \n",
    "* Class Model: \n",
    "    - *State* \n",
    "    - *...*\n",
    "* Class Observations: \n",
    "    - *Obs locations* \n",
    "    - *Variables*\n",
    "    - *...*\n",
    "* Class Data Assimilation: \n",
    "    - *DA methods*\n",
    "    - *...*\n",
    "* Class Observational Operator: \n",
    "    - *Obs errors* \n",
    "    - GetObsInfo \n",
    "    - GetInterpolatedFields \n",
    "    - *...*\n",
    "\n",
    "\n",
    "*Remark: The obs operator is a seperate class which implies that the model and observation classes do not need to communicate. This allows easy changes of models and DA methods.*"
   ]
  },
  {
   "cell_type": "markdown",
   "metadata": {},
   "source": [
    "### 5. OOPS \n",
    "\n",
    "##### Abstract classes in predefined interfaces \n",
    "\n",
    "* In model space:  \n",
    "    - 1) Geometry\n",
    "    - 2) State\n",
    "    - 3) Increment\n",
    "    - 4) ModelConfiguration\n",
    "    - 5) LinearModel (Trajectory)  \n",
    "* In observation space:  \n",
    "    - 6) ObsOperator\n",
    "    - 7) ObsAuxControl\n",
    "    - 8) ObsAuxIncrement\n",
    "    - 9) ObsVector\n",
    "    - 10) ObsOperatorTrajectory  \n",
    "* To make the link:   \n",
    "    - 11) Locations\n",
    "    - 12) ModelAtLocations  \n",
    "* Covariance matrices (if generic ones are not used):  \n",
    "    - 13) Model space (B and Q) \n",
    "    - 14) Observation space (R)\n",
    "    - 15) Localization (4D-Ens-Var)\n",
    "    "
   ]
  }
 ],
 "metadata": {
  "kernelspec": {
   "display_name": "Python 3",
   "language": "python",
   "name": "python3"
  },
  "language_info": {
   "codemirror_mode": {
    "name": "ipython",
    "version": 3
   },
   "file_extension": ".py",
   "mimetype": "text/x-python",
   "name": "python",
   "nbconvert_exporter": "python",
   "pygments_lexer": "ipython3",
   "version": "3.6.4"
  }
 },
 "nbformat": 4,
 "nbformat_minor": 2
}
