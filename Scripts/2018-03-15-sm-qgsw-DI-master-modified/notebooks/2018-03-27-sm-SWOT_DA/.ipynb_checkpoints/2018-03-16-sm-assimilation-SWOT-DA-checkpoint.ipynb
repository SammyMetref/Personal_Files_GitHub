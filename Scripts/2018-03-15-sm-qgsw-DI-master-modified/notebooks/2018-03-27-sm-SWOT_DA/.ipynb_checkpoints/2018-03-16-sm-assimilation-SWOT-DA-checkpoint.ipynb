{
 "cells": [
  {
   "cell_type": "markdown",
   "metadata": {},
   "source": [
    "# Assimilation of SWOT data \n",
    "\n",
    "## Software version\n"
   ]
  },
  {
   "cell_type": "code",
   "execution_count": 1,
   "metadata": {},
   "outputs": [
    {
     "name": "stdout",
     "output_type": "stream",
     "text": [
      "3.6.4 |Anaconda custom (64-bit)| (default, Jan 16 2018, 12:04:33) \n",
      "[GCC 4.2.1 Compatible Clang 4.0.1 (tags/RELEASE_401/final)]\n"
     ]
    }
   ],
   "source": [
    "import sys\n",
    "print (sys.version)\n"
   ]
  },
  {
   "cell_type": "markdown",
   "metadata": {},
   "source": [
    "## Imports"
   ]
  },
  {
   "cell_type": "code",
   "execution_count": 2,
   "metadata": {},
   "outputs": [],
   "source": [
    "%matplotlib inline  \n",
    "from params import *"
   ]
  },
  {
   "cell_type": "markdown",
   "metadata": {},
   "source": [
    "## Initialization "
   ]
  },
  {
   "cell_type": "code",
   "execution_count": 3,
   "metadata": {},
   "outputs": [],
   "source": [
    "# Calling initialization module    \n",
    "state_vectors0_names=Initialization(initialization,n_ensemble) "
   ]
  },
  {
   "cell_type": "markdown",
   "metadata": {},
   "source": [
    "## Time loop"
   ]
  },
  {
   "cell_type": "code",
   "execution_count": 4,
   "metadata": {
    "scrolled": false
   },
   "outputs": [
    {
     "name": "stderr",
     "output_type": "stream",
     "text": [
      "/Users/sammymetref/Documents/Boost-Swot/Notebooks/GitHub/Personal_Files/2018/Scripts/2018-03-15-sm-qgsw-DI-master-modified/notebooks/Models/qgsw.py:80: RuntimeWarning: divide by zero encountered in remainder\n",
      "  if (np.mod(step+1,stepout)==0):\n",
      "/Users/sammymetref/Documents/Boost-Swot/Notebooks/GitHub/Personal_Files/2018/Scripts/2018-03-15-sm-qgsw-DI-master-modified/notebooks/Models/qgsw.py:115: RuntimeWarning: divide by zero encountered in remainder\n",
      "  if (np.mod(step+1,stepout)==0):\n"
     ]
    },
    {
     "name": "stdout",
     "output_type": "stream",
     "text": [
      "[[-0.02767231 -0.02576058 -0.02403691 ..., -0.0444079  -0.04664922\n",
      "  -0.04946294]\n",
      " [-0.0251378  -0.02379733 -0.02266308 ..., -0.04140435 -0.0430582\n",
      "  -0.04499167]\n",
      " [-0.0228391  -0.02187838 -0.02104236 ..., -0.03860906 -0.04006746\n",
      "  -0.0414152 ]\n",
      " ..., \n",
      " [-0.10234994 -0.10721158 -0.11289983 ..., -0.10694995 -0.10571761\n",
      "  -0.10483523]\n",
      " [-0.09297101 -0.09767507 -0.10340548 ..., -0.1089528  -0.10691239\n",
      "  -0.10600235]\n",
      " [-0.08503278 -0.0894488  -0.09487837 ..., -0.11174136 -0.10832378\n",
      "  -0.10689801]]\n",
      "2012-06-15 00:00:00\n",
      "[[-0.02767231 -0.02576058 -0.02403691 ..., -0.0444079  -0.04664922\n",
      "  -0.04946294]\n",
      " [-0.0251378  -0.02379733 -0.02266308 ..., -0.04140435 -0.0430582\n",
      "  -0.04499167]\n",
      " [-0.0228391  -0.02187838 -0.02104236 ..., -0.03860906 -0.04006746\n",
      "  -0.0414152 ]\n",
      " ..., \n",
      " [-0.10234994 -0.10721158 -0.11289983 ..., -0.10694995 -0.10571761\n",
      "  -0.10483523]\n",
      " [-0.09297101 -0.09767507 -0.10340548 ..., -0.1089528  -0.10691239\n",
      "  -0.10600235]\n",
      " [-0.08503278 -0.0894488  -0.09487837 ..., -0.11174136 -0.10832378\n",
      "  -0.10689801]]\n",
      "2012-06-16 00:00:00\n",
      "Computation time\n",
      "60.274458169937134\n"
     ]
    }
   ],
   "source": [
    "##################################\n",
    "# Time assessment initialization #\n",
    "t0 = time.time()                 #\n",
    "##################################\n",
    "\n",
    "# Cycle counter initialization\n",
    "i_cycle=1\n",
    "current_cycle=present_date\n",
    "\n",
    "while present_date<final_date :\n",
    "     \n",
    "    ####################\n",
    "    # 3.1. Propagation #\n",
    "    ####################\n",
    "    # Model propagation  \n",
    "    state_vectors_names=EnsembleModel(model,state_vectors0_names,n_ensemble,assimilation_time_step.total_seconds(),state_vectors_names)\n",
    "    # Time update\n",
    "    present_date=present_date+assimilation_time_step\n",
    "    \n",
    "    # Check in which cycle is present_date\n",
    "    if (present_date-current_cycle)>cycle_time:\n",
    "        current_cycle=current_cycle+cycle_time\n",
    "        i_cycle=i_cycle+1\n",
    "        \n",
    "    ##########################\n",
    "    # 3.2. Observation check #\n",
    "    ##########################  \n",
    "    [obs_avail, obs_file_list]=ObservationCheck(present_date,assimilation_time_step,obs_path,obs_prefixe,i_cycle,pass_names,init_obs_date)\n",
    " \n",
    "    #################\n",
    "    # 3.3. Analysis #\n",
    "    ################# \n",
    "    if obs_avail:    \n",
    "        print(present_date)\n",
    "        for obs_file in obs_file_list:\n",
    "            aa=ObsOperator(obsop,state_vectors_names,obs_file,tmp_DA_path,sosie_path,name_sosie_output,name_sosie_map,n_ensemble)\n",
    "        \n",
    "    #################\n",
    "    # 3.4. Outputs  #\n",
    "    ################# \n",
    "    #print('Output in progress')\n",
    "    \n",
    "    if saveoutputs :\n",
    "        Save_present_time_outputs(state_vectors_names,n_ensemble,present_date)\n",
    "         \n",
    "        \n",
    "################################\n",
    "# Time assessment finalization #   \n",
    "t1 = time.time()               #\n",
    "total = t1-t0                  #\n",
    "print('Computation time')      #\n",
    "print(total)                   #\n",
    "################################"
   ]
  },
  {
   "cell_type": "code",
   "execution_count": null,
   "metadata": {},
   "outputs": [],
   "source": []
  }
 ],
 "metadata": {
  "kernelspec": {
   "display_name": "Python 3",
   "language": "python",
   "name": "python3"
  },
  "language_info": {
   "codemirror_mode": {
    "name": "ipython",
    "version": 3
   },
   "file_extension": ".py",
   "mimetype": "text/x-python",
   "name": "python",
   "nbconvert_exporter": "python",
   "pygments_lexer": "ipython3",
   "version": "3.6.4"
  }
 },
 "nbformat": 4,
 "nbformat_minor": 2
}
