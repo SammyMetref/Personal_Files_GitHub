{
 "cells": [
  {
   "cell_type": "markdown",
   "metadata": {},
   "source": [
    "# Assimilation of SWOT data \n",
    "\n",
    "## Software version\n",
    "\n",
    "import sys\n",
    "print (sys.version)"
   ]
  },
  {
   "cell_type": "code",
   "execution_count": 2,
   "metadata": {},
   "outputs": [],
   "source": [
    "import sys,os,shutil\n",
    "sys.path.insert(0,'/Users/sammymetref/Documents/Boost-Swot/Notebooks/GitHub/Personal_Files/2018/Scripts/2018-03-15-sm-qgsw-DI-master-modified/') "
   ]
  },
  {
   "cell_type": "markdown",
   "metadata": {},
   "source": [
    "## Parameters importation"
   ]
  },
  {
   "cell_type": "code",
   "execution_count": 3,
   "metadata": {},
   "outputs": [],
   "source": [
    "%matplotlib inline \n",
    "\n",
    "from params import *"
   ]
  },
  {
   "cell_type": "markdown",
   "metadata": {},
   "source": [
    "## Initialization "
   ]
  },
  {
   "cell_type": "code",
   "execution_count": 4,
   "metadata": {},
   "outputs": [],
   "source": [
    "# Calling initialization module    \n",
    "state_vectors0_names=Initialization(initialization,n_ensemble) "
   ]
  },
  {
   "cell_type": "markdown",
   "metadata": {},
   "source": [
    "## Time loop"
   ]
  },
  {
   "cell_type": "code",
   "execution_count": 5,
   "metadata": {
    "scrolled": false
   },
   "outputs": [
    {
     "name": "stdout",
     "output_type": "stream",
     "text": [
      "obs retrieval\n",
      "2012-06-15 00:00:00\n",
      "obs retrieval\n",
      "2012-06-16 00:00:00\n",
      "Computation time\n",
      "6.150514841079712\n"
     ]
    }
   ],
   "source": [
    "# Time assessment initialization\n",
    "t0 = time.time()\n",
    "\n",
    "# Cycle counter initialization\n",
    "i_cycle=1\n",
    "current_cycle=present_date\n",
    "\n",
    "while present_date<final_date :\n",
    "     \n",
    "    ####################\n",
    "    # 3.1. Propagation #\n",
    "    ####################\n",
    "    # Model propagation  \n",
    "    state_vectors_names=EnsembleModel(model,state_vectors0_names,n_ensemble,assimilation_time_step.total_seconds())\n",
    "    # Time update\n",
    "    present_date=present_date+assimilation_time_step\n",
    "    \n",
    "    # Check in which cycle is present_date\n",
    "    if (present_date-current_cycle)>cycle_time:\n",
    "        current_cycle=current_cycle+cycle_time\n",
    "        i_cycle=i_cycle+1\n",
    "        \n",
    "    ##########################\n",
    "    # 3.2. Observation check #\n",
    "    ##########################  \n",
    "    [obs_avail, obs_file_list]=ObservationCheck(present_date,assimilation_time_step,obs_path,obs_prefixe,i_cycle,pass_names,init_obs_date)\n",
    "\n",
    "    ##############################\n",
    "    # 3.3. Observation retrieval #\n",
    "    ##############################\n",
    "    if obs_avail:  \n",
    "        print('obs retrieval') \n",
    "    #################\n",
    "    # 3.4. Analysis #\n",
    "    ################# \n",
    "        print(present_date)\n",
    "        \n",
    "    #################\n",
    "    # 3.5. Outputs  #\n",
    "    ################# \n",
    "    #print('Output in progress')\n",
    "    \n",
    "    if saveoutputs :\n",
    "        Save_present_time_outputs(state_vectors_names,n_ensemble,present_date)\n",
    "         \n",
    "        \n",
    "\n",
    "# Time assessment finalization    \n",
    "t1 = time.time() \n",
    "total = t1-t0\n",
    "print('Computation time')\n",
    "print(total)"
   ]
  }
 ],
 "metadata": {
  "kernelspec": {
   "display_name": "Python 3",
   "language": "python",
   "name": "python3"
  },
  "language_info": {
   "codemirror_mode": {
    "name": "ipython",
    "version": 3
   },
   "file_extension": ".py",
   "mimetype": "text/x-python",
   "name": "python",
   "nbconvert_exporter": "python",
   "pygments_lexer": "ipython3",
   "version": "3.6.4"
  }
 },
 "nbformat": 4,
 "nbformat_minor": 2
}
