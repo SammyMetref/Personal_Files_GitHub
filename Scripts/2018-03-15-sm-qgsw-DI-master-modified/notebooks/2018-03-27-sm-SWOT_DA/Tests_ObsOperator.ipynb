{
 "cells": [
  {
   "cell_type": "code",
   "execution_count": 1,
   "metadata": {},
   "outputs": [],
   "source": [
    "#############\n",
    "# Libraries #\n",
    "############# \n",
    "\n",
    "# General libraries\n",
    "import sys,os,shutil\n",
    "sys.path.insert(0,'/Users/sammymetref/Documents/Boost-Swot/Notebooks/GitHub/Personal_Files/2018/Scripts/2018-03-15-sm-qgsw-DI-master-modified/2018-03-27-sm-SWOT_DA/') \n",
    "import numpy as np\n",
    "import matplotlib.pylab as plt\n",
    "import time\n",
    "import netCDF4 as nc \n",
    "#import modgrid\n",
    "from datetime import datetime\n",
    "from datetime import timedelta\n",
    "import time \n",
    "\n",
    "# Model specific libraries\n",
    "from importlib.machinery import SourceFileLoader \n",
    "modgrid = SourceFileLoader(\"modgrid\", \"/Users/sammymetref/Documents/Boost-Swot/Notebooks/GitHub/Personal_Files/2018/Scripts/2018-03-15-sm-qgsw-DI-master-modified/notebooks/Models/modgrid.py\").load_module() \n",
    "moddyn = SourceFileLoader(\"moddyn\", \"/Users/sammymetref/Documents/Boost-Swot/Notebooks/GitHub/Personal_Files/2018/Scripts/2018-03-15-sm-qgsw-DI-master-modified/notebooks/Models/moddyn.py\").load_module() \n",
    "modelliptic = SourceFileLoader(\"modelliptic\", \"/Users/sammymetref/Documents/Boost-Swot/Notebooks/GitHub/Personal_Files/2018/Scripts/2018-03-15-sm-qgsw-DI-master-modified/notebooks/Models/modelliptic.py\").load_module() \n",
    "\n",
    "# DA specific libraries\n",
    "from initialization_functions import Initialization\n",
    "from Model import EnsembleModel\n",
    "from Observations import ObservationCheck\n",
    "from Saveoutputs import Save_present_time_outputs \n",
    "\n",
    "from Observations import ObsOperator\n",
    "from Observations import ObsOperator_SOSIE_SWOT as obsop\n"
   ]
  },
  {
   "cell_type": "code",
   "execution_count": 2,
   "metadata": {},
   "outputs": [],
   "source": [
    "vectors_names=\"/Users/sammymetref/Documents/Boost-Swot/Notebooks/GitHub/Personal_Files/2018/Scripts/2018-03-15-sm-qgsw-DI-master-modified/notebooks/2018-03-27-sm-SWOT_DA/TMP_DA/state_vectors.nc\"\n",
    "obs_names=\"/Users/sammymetref/Documents/Boost-Swot/Notebooks/GitHub/Personal_Files/2018/SwotSimulator/example/swot_output/swot292-OSMOSIS_c01_p003.nc\""
   ]
  },
  {
   "cell_type": "code",
   "execution_count": 3,
   "metadata": {},
   "outputs": [],
   "source": [
    "n_ens=2"
   ]
  },
  {
   "cell_type": "code",
   "execution_count": 4,
   "metadata": {},
   "outputs": [
    {
     "name": "stdout",
     "output_type": "stream",
     "text": [
      "Error: No state_vector01 file in /Users/sammymetref/Documents/Boost-Swot/Notebooks/GitHub/Personal_Files/2018/Scripts/2018-03-15-sm-qgsw-DI-master-modified/notebooks/2018-03-27-sm-SWOT_DA/TMP_DA/\n"
     ]
    }
   ],
   "source": [
    "aa=obsop(vectors_names,obs_names,n_ens)"
   ]
  },
  {
   "cell_type": "code",
   "execution_count": 6,
   "metadata": {},
   "outputs": [
    {
     "data": {
      "text/plain": [
       "array([ '/Users/sammymetref/Documents/Boost-Swot/Notebooks/GitHub/Personal_Files/2018/Scripts/2018-03-15-sm-qgsw-DI-master-modified/notebooks/2018-03-27-sm-SWOT_DA/TMP_DA/state_projections_00.nc',\n",
       "       '/Users/sammymetref/Documents/Boost-Swot/Notebooks/GitHub/Personal_Files/2018/Scripts/2018-03-15-sm-qgsw-DI-master-modified/notebooks/2018-03-27-sm-SWOT_DA/TMP_DA/state_projections_01.nc'],\n",
       "      dtype='<U185')"
      ]
     },
     "execution_count": 6,
     "metadata": {},
     "output_type": "execute_result"
    }
   ],
   "source": [
    "aa"
   ]
  },
  {
   "cell_type": "code",
   "execution_count": null,
   "metadata": {},
   "outputs": [],
   "source": []
  }
 ],
 "metadata": {
  "kernelspec": {
   "display_name": "Python 3",
   "language": "python",
   "name": "python3"
  },
  "language_info": {
   "codemirror_mode": {
    "name": "ipython",
    "version": 3
   },
   "file_extension": ".py",
   "mimetype": "text/x-python",
   "name": "python",
   "nbconvert_exporter": "python",
   "pygments_lexer": "ipython3",
   "version": "3.6.4"
  }
 },
 "nbformat": 4,
 "nbformat_minor": 2
}
