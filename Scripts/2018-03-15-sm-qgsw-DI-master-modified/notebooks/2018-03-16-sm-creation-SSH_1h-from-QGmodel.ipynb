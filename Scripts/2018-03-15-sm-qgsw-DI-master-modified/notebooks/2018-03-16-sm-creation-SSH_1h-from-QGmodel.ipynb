{
 "cells": [
  {
   "cell_type": "code",
   "execution_count": 1,
   "metadata": {},
   "outputs": [
    {
     "name": "stdout",
     "output_type": "stream",
     "text": [
      "3.6.4 |Anaconda, Inc.| (default, Jan 16 2018, 12:04:33) \n",
      "[GCC 4.2.1 Compatible Clang 4.0.1 (tags/RELEASE_401/final)]\n"
     ]
    }
   ],
   "source": [
    "import sys\n",
    "print (sys.version)"
   ]
  },
  {
   "cell_type": "code",
   "execution_count": 2,
   "metadata": {},
   "outputs": [],
   "source": [
    "%matplotlib inline\n",
    "import sys,os,shutil\n",
    "#sys.path.insert(0,'/Users/sammymetref/Documents/Boost-Swot/Notebooks/GitHub/Personal_Files/2018/Scripts/2018-03-15-sm-qgsw-DI-master-modified/') \n",
    "import numpy as np\n",
    "import matplotlib.pylab as plt\n",
    "import time\n",
    "import netCDF4 as nc\n",
    "import qgsw\n",
    "import modgrid"
   ]
  },
  {
   "cell_type": "code",
   "execution_count": 3,
   "metadata": {},
   "outputs": [],
   "source": [
    "file='/Users/sammymetref/Documents/Boost-Swot/Notebooks/GitHub/Personal_Files/2018/Data/OSMOSIS/NATL60OSMO-CJM165_y2012m06d14-y2013m10d01.1d_SSHdegrad.nc'\n",
    "fid = nc.Dataset(file)\n",
    "lon2d=np.array(fid.variables[\"nav_lon\"][:])\n",
    "lat2d=np.array(fid.variables[\"nav_lat\"][:])\n",
    "SSH=np.array(fid.variables[\"degraded_sossheig\"][:,:])"
   ]
  },
  {
   "cell_type": "code",
   "execution_count": 4,
   "metadata": {},
   "outputs": [],
   "source": [
    "\n",
    "SSH_t0 = SSH[0,:,:]# Set constant Rossby first baroclinic phase speed to constant value\n",
    "c=SSH_t0*0. + 2.5 # in m/s\n",
    "\n",
    "tint=int(86400/24*3) # Time of propagator integration in seconds. Can be positive or negative\n",
    "deltat=int(86400/24) # Time period of outputs\n",
    "dt=600 # propagator time step"
   ]
  },
  {
   "cell_type": "code",
   "execution_count": 5,
   "metadata": {},
   "outputs": [
    {
     "name": "stdout",
     "output_type": "stream",
     "text": [
      "Help on module qgsw:\n",
      "\n",
      "NAME\n",
      "    qgsw\n",
      "\n",
      "FUNCTIONS\n",
      "    cos(...)\n",
      "        cos(x)\n",
      "        \n",
      "        Return the cosine of x (measured in radians).\n",
      "    \n",
      "    isnan(...)\n",
      "        isnan(x) -> bool\n",
      "        \n",
      "        Return True if x is a NaN (not a number), and False otherwise.\n",
      "    \n",
      "    qgsw(Hi=None, c=None, lon=None, lat=None, tint=None, dtout=None, dt=None, obsspace=None, Hm=None, rappel=None, snu=None)\n",
      "        QG Shallow Water model\n",
      "        \n",
      "        Args:\n",
      "            Hi (2D array): Initial SSH field.\n",
      "            c (same size as Hi): Rossby first baroclinic phase speed\n",
      "            lon (2D array): longitudes\n",
      "            lat (2D array): latitudes\n",
      "            tint (scalar): Time of propagator integration in seconds. Can be positive (forward integration) or negative (backward integration)\n",
      "            dtout (scalar): Time period of outputs\n",
      "            dt (scalar): Propagator time step\n",
      "        \n",
      "        Returns:\n",
      "            SSH: 3D array with dimensions (timesteps, height, width), SSH forecast\n",
      "    \n",
      "    sin(...)\n",
      "        sin(x)\n",
      "        \n",
      "        Return the sine of x (measured in radians).\n",
      "\n",
      "DATA\n",
      "    pi = 3.141592653589793\n",
      "\n",
      "FILE\n",
      "    /Users/sammymetref/Documents/Boost-Swot/Notebooks/GitHub/Personal_Files/2018/Scripts/2018-03-15-sm-qgsw-DI-master-modified/notebooks/qgsw.py\n",
      "\n",
      "\n"
     ]
    }
   ],
   "source": [
    "help(qgsw)"
   ]
  },
  {
   "cell_type": "markdown",
   "metadata": {},
   "source": [
    "## Applying the QGSW operator"
   ]
  },
  {
   "cell_type": "code",
   "execution_count": 6,
   "metadata": {},
   "outputs": [
    {
     "data": {
      "text/plain": [
       "(4, 301, 175)"
      ]
     },
     "execution_count": 6,
     "metadata": {},
     "output_type": "execute_result"
    }
   ],
   "source": [
    "Hf,trash=qgsw.qgsw(Hi=SSH_t0, c=c, lon=lon2d, lat=lat2d, tint=tint, dtout=deltat, dt=dt,rappel=None,snu=0.)\n",
    "\n",
    "Hf.shape"
   ]
  },
  {
   "cell_type": "markdown",
   "metadata": {},
   "source": [
    "# Saving SSH outputs"
   ]
  },
  {
   "cell_type": "code",
   "execution_count": 7,
   "metadata": {},
   "outputs": [
    {
     "name": "stdout",
     "output_type": "stream",
     "text": [
      "2012-06-14 00:00:00\n",
      "2012-06-14 01:00:00\n",
      "2012-06-14 02:00:00\n",
      "2012-06-14 03:00:00\n"
     ]
    }
   ],
   "source": [
    "from datetime import datetime\n",
    "from datetime import timedelta\n",
    "date0=datetime(2012,6,14)\n",
    "deltatoutput=timedelta(hours=1)\n",
    "for it in range(np.shape(Hf)[0]):\n",
    "    print(date0)\n",
    "    path='/Users/sammymetref/Documents/Boost-Swot/Notebooks/GitHub/Personal_Files/2018/Data/OSMOSIS/QGSWOSMO-IniNATL60_1h/'\n",
    "    str(it)\n",
    "    ncout = nc.Dataset(path+'QGSWOSMO-IniNATL60_y'+str(date0.year)+'m'+str(date0.month)+'d'+str(date0.day)+'h'+str(date0.hour)+'_SSHdegrad.nc', 'w', format='NETCDF3_CLASSIC')\n",
    "    ncout.createDimension('x', lon2d.shape[0])\n",
    "    ncout.createDimension('y', lat2d.shape[1])\n",
    "    ncout.createDimension('time', None)\n",
    "    nclon = ncout.createVariable('lon', 'f', ('x',))\n",
    "    nclat = ncout.createVariable('lat', 'f', ('y',))\n",
    "    nctim = ncout.createVariable('time', 'f', ('time',))\n",
    "#   nchei = ncout.createVariable('SSH', 'f', ('time','y','x',))\n",
    "    nchei = ncout.createVariable('SSH', 'f', ('y','x',)) \n",
    "    nclat[:] = lat2d[0,:]\n",
    "    nclon[:] = lon2d[:,0] \n",
    "#nctim[:]=range(0,tint+deltat,deltat)\n",
    "    nctim[:]=deltat*it\n",
    "#nchei[:,:,:] = Hf[:,:,:]\n",
    "    nchei[:,:] = Hf[it,:,:]\n",
    "    ncout.close()\n",
    "    date0=date0+deltatoutput"
   ]
  },
  {
   "cell_type": "code",
   "execution_count": null,
   "metadata": {},
   "outputs": [],
   "source": []
  }
 ],
 "metadata": {
  "kernelspec": {
   "display_name": "Python 3",
   "language": "python",
   "name": "python3"
  },
  "language_info": {
   "codemirror_mode": {
    "name": "ipython",
    "version": 3
   },
   "file_extension": ".py",
   "mimetype": "text/x-python",
   "name": "python",
   "nbconvert_exporter": "python",
   "pygments_lexer": "ipython3",
   "version": "3.6.4"
  }
 },
 "nbformat": 4,
 "nbformat_minor": 2
}
